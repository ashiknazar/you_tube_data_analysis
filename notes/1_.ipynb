{
 "cells": [
  {
   "cell_type": "markdown",
   "metadata": {},
   "source": [
    "### what you will learn in this course\n",
    "- to build a data lake from scrach in amazon s3\n",
    "  - joining semistructures and structured data\n",
    "- lake house architecture design\n",
    "  - best practice cost and performance\n",
    "- data lake vs data warehouse\n",
    "- data lake design in layers ,partitioned for cost performance\n",
    "- aws data catalogue\n",
    "- etl in aws glue spark jobs\n",
    "   - amazon sagemaker jupyer notebooks\n",
    "- amazon sns for alerting\n",
    "- sql using amazon athena and spark sql  "
   ]
  },
  {
   "cell_type": "markdown",
   "metadata": {},
   "source": [
    "- ingest changes incrementally and schema evolution\n",
    "- bi dashboards in amazon quicksight"
   ]
  },
  {
   "cell_type": "markdown",
   "metadata": {},
   "source": [
    "![](../images/data.png)"
   ]
  },
  {
   "cell_type": "markdown",
   "metadata": {},
   "source": [
    "___\n",
    "___"
   ]
  },
  {
   "cell_type": "markdown",
   "metadata": {},
   "source": [
    "### our data set form youtube\n",
    "- top trending videos\n",
    "- what is trending\n",
    "   - youtube uses factors,including user interactions \n",
    "     - eg: no of views,shares,comments,likes\n",
    "     - not the most viewed videos overall for the calender\n",
    "- source:kaggle data collected using youtube api"
   ]
  },
  {
   "cell_type": "markdown",
   "metadata": {},
   "source": [
    "___\n",
    "___\n",
    "# best practice for aws account "
   ]
  },
  {
   "cell_type": "markdown",
   "metadata": {},
   "source": [
    "- always protect your root account\n",
    "- dont use root accountenable mfa whenever you can\n",
    "   - eg: Google Authenticator\n",
    "\n",
    "- Rotate all keys and passwords periodically\n",
    "- avoid \"credentials\" file shared or even in private computers \n",
    "- always follow least privilage principle\n"
   ]
  },
  {
   "cell_type": "markdown",
   "metadata": {},
   "source": [
    "- 1.create an iam user and iam group for this training\n"
   ]
  },
  {
   "cell_type": "markdown",
   "metadata": {},
   "source": []
  }
 ],
 "metadata": {
  "language_info": {
   "name": "python"
  }
 },
 "nbformat": 4,
 "nbformat_minor": 2
}
